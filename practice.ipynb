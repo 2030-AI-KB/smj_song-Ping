{
  "nbformat": 4,
  "nbformat_minor": 0,
  "metadata": {
    "colab": {
      "provenance": [],
      "gpuType": "T4"
    },
    "kernelspec": {
      "name": "python3",
      "display_name": "Python 3"
    },
    "language_info": {
      "name": "python"
    },
    "accelerator": "GPU",
    "gpuClass": "standard"
  },
  "cells": [
    {
      "cell_type": "code",
      "execution_count": null,
      "metadata": {
        "id": "2YoUcA8i2-yE"
      },
      "outputs": [],
      "source": [
        "#Missoin_1.  구구단프로그램을 작성해주세요. 단을 입력하면 입력받은 단까지 모두 출력해주세요.\n",
        "gugudan = int(input(\"알고자 하는 단 수를 입력해주세요 -> \"))\n",
        "num = 1\n",
        "\n",
        "while num < 10 : \n",
        "  print(gugudan , \" * \" , num , \" = \" , (gugudan * num))\n",
        "  num +=1"
      ]
    },
    {
      "cell_type": "code",
      "source": [
        "#Missoin_2.  20개의 정수를 입력 받아서 짝수와 홀수를 구분하여 저장해주세요. \n",
        "#           저장된 수의 총합이 얼마인지와 짝수의 합이 큰지 홀수의 합이 큰지를 알려주는 코드를 작성해주세요 \n",
        "\n",
        "\n",
        "Positive_Num = []                     # 양수를 담는 리스트 선언\n",
        "Negative_Num = []                     # 음수를 담는 리스트 선언\n",
        "\n",
        "for i in range(1,21) :\n",
        "  Num = int(input(f'{i}번째 정수를 입력해주세요 : '))\n",
        "  if(Num % 2 == 0):\n",
        "    Positive_Num.append(Num)          # 리스트에 담기\n",
        "    Positive_Sum = sum(Positive_Num)  # 양수리스트의 총합 계산\n",
        "  else:\n",
        "    Negative_Num.append(Num)\n",
        "    Negative_Sum = sum(Negative_Num)  # 음수리스트의 총합 계산\n",
        "\n",
        "def comparison(Negative_Num, Positive_Num): # 양 / 음수의 총합을 비교하는 함수                   # 양/음수 총합 비교하는 comparison() 함수\n",
        "  if(Positive_Num > Negative_Num):   \n",
        "    return \"=> '짝수'의 총합이 더 큽니다.\"\n",
        "  else:\n",
        "    return \"=> '홀수'의 총합이 더 큽니다.\"\n",
        "\n",
        "print(\"\\n짝수 -> \" , Positive_Num)\n",
        "print(\"홀수 -> \" , Negative_Num)\n",
        "print(\"저장된 정수의 총 합 : \" , ( Positive_Sum + Negative_Sum ) , \"\\n\")\n",
        "print(\"짝수, 홀수 중 어느 쪽의 합이 더 클까요?\\n \" , \"짝수의 총 합 (\" , Positive_Sum , \") / \"+ \" 홀수의 총 합 (\" , Negative_Num, \")\\n\\t\", comparison( Positive_Sum, Negative_Sum ))\n"
      ],
      "metadata": {
        "id": "3fSwFg6HBPZz"
      },
      "execution_count": null,
      "outputs": []
    },
    {
      "cell_type": "code",
      "source": [
        "#Mission_3. 오늘의 기분을 입력받아서\n",
        "#입력한 기분 값이 10를 넘으면 그 기분에 맞는 내용을 알려주는 코드를 작성해주세요.\n",
        "\n",
        "Mood = int(input(\"오늘의 기분을 점수로 입력 해주세요 : \"))\n",
        "\n",
        "if(Mood < 10) :     # 기분 점수가 10 아래일때\n",
        "  if Mood <= 4 :    # 4점 이하\n",
        "    print(\"우울한 하루이신가요? 저랑 같이 힘내요!\")\n",
        "  elif Mood == 5 :  # 5점\n",
        "    print(\"그저 그런 하루인가요? 매일이 좋을 순 없으니 이런날도 있는거겠죠?\")\n",
        "  elif Mood <= 9 :  # 9점 이하\n",
        "    print(\"오늘은 행복하기 위한 날!\")\n",
        "else :              # 기분점수가 10 이상일 때\n",
        "    print(\"오늘도 행복한 하루군요! 이 기분 끝까지 유지해주세요~\")"
      ],
      "metadata": {
        "id": "o77f6rysbTre"
      },
      "execution_count": null,
      "outputs": []
    },
    {
      "cell_type": "code",
      "source": [
        "#Mission_4. 아래의 코드를 보고 입력받은 5개의 성적을 기준을 작성하여 코드를 완성해주세요..\n",
        "#           단, 아래의 코드는 변경이 불가능합니다.\n",
        "scores = []\n",
        "\n",
        "for num in range(1,6) :\n",
        "  num = int(input(\"성적을 입력해주세요 : \"))\n",
        "  scores.append(num)    # 리스트 만들어서 입력한 값 넣기\n",
        "\n",
        "  mx_score = max(scores)    # 높은점수 구하기\n",
        "  min_score = min(scores)     # 낮은점수 구하기\n",
        "\n",
        "  mx_index = scores.index(mx_score) + 1 #높은점수 잇는 인덱스 번호 구하기\n",
        "  min_index = scores.index(min_score) + 1 #낮은점수 있는 인덱스 번호 구하기\n",
        "\n",
        "print( \"\\n입력한 성적중 \"+ str(mx_index) + \"번째 점수가 가장 높은 \"+ str(mx_score) + \" 입니다.\")\n",
        "print( \"입력한 성적중 \"+ str(min_index) + \"번째 점수가 가장 낮은 \"+ str(min_score) + \" 입니다.\")\n",
        "# 입력한 성적중 #번째 점수가 가장 높은 #점입니다."
      ],
      "metadata": {
        "id": "vRiQN-DrpSPv"
      },
      "execution_count": null,
      "outputs": []
    },
    {
      "cell_type": "code",
      "source": [
        "#Mission_5. 아래의 Song의 내용을 분석할 수 있는 코드를 작성하여 정량적 수치를 통해 의견을 작성해주세요..\n",
        "\n",
        "# [의견 작성]\n",
        "#\n",
        "\n",
        "song = \"\"\"Fuck you and your mom and your sister and your job and your broke ass car and that shit you call art\n",
        "       fuck you And your friends that i'll never see again everybody but your dog you can all FUCK OFF i swear i meant to mean the best when it ended even try to bite my tongue when you start shit\n",
        "       now you're texting all my friends asking questions hey never even liked you in the first place\"\"\"\n"
      ],
      "metadata": {
        "id": "A9fteZBMr5Ck"
      },
      "execution_count": null,
      "outputs": []
    },
    {
      "cell_type": "code",
      "source": [
        "#Mission_6. 이름과 점수를 입력하면 학점을 반환하여 저장하는 코드를 작성해주세요.\n",
        "\n",
        "def get_grade(score) :      # 점수로 학점 정하는 grade()함수\n",
        "    if score >= 90 :\n",
        "     return \"A\"\n",
        "    elif score >= 80 :\n",
        "     return \"B\"\n",
        "    elif score >= 60 :\n",
        "     return \"C\"\n",
        "    elif score >= 50 :\n",
        "     return \"D\"\n",
        "    else :\n",
        "     return \"F\"\n",
        "\n",
        "GradeCard = []            # 2차원 리스트 만들기 위한 함수\n",
        "\n",
        "while True :\n",
        "  name = input(\"이름을 입력하세요(입력 중단을 원하시면 q를 입력해주세요) \") \n",
        "  \n",
        "  if name == \"q\":         # 더 이상 입력을 원하지 않을때를 위한 break 문\n",
        "    print(\"종료합니다\")\n",
        "    break\n",
        "  score = int(input(\"점수를 입력해주세요 \"))\n",
        "  \n",
        "  print(name, \"님의 점수는\", score, \"학점은 \", get_grade(score))\n",
        "\n",
        "  student = []            # GradeCard 안에 넣기 위한 student 리스트\n",
        "  student.append(name)\n",
        "  student.append(score)\n",
        "  student.append(get_grade(score))\n",
        "  GradeCard.append(student)\n",
        "  \n",
        "for i in GradeCard :      # 종료 하고 나와야만 전체 학생의 이름과 점수, 학점이 나오도록 하는 출력문   \n",
        "  print(i)\n",
        " \n",
        "\n"
      ],
      "metadata": {
        "id": "3zqIp0BIwEEA"
      },
      "execution_count": null,
      "outputs": []
    },
    {
      "cell_type": "code",
      "source": [
        "#Mission_7. 피보나치수열은 첫째 및 둘째 항이 1이며 그 뒤의 모든 항은 바로 앞 두 항의 합인 수열이다.\n",
        "#           수열을 코드로 작성해주세요."
      ],
      "metadata": {
        "id": "85gHA9FjwHBy"
      },
      "execution_count": null,
      "outputs": []
    },
    {
      "cell_type": "code",
      "source": [
        "#Missoin_8. 아래의 내용을 보고 결과를 출력하는 코드를 작성해주세요.\n",
        "'''10보다 작은 자연수 중에서 3 또는 5의 배수는 3, 5, 6, 9 이고, 이것을 모두 더하면 23입니다.\n",
        "   1000보다 작은 자연수 중에서 3 또는 5의 배수를 모두 더하면 얼마일까요?'''"
      ],
      "metadata": {
        "id": "XUu2LFVcwHKr"
      },
      "execution_count": null,
      "outputs": []
    },
    {
      "cell_type": "code",
      "source": [
        "#Mission_9. 가위,바위,보 게임을 만들어주세요.. (이긴 횟수를 알려주세요.)\n",
        "import random\n",
        "\n",
        "win = 0   # 이긴횟수 축적 변수\n",
        "option = [\"가위\", \"바위\", \"보\"]\n",
        "result = [0, 1, 2]  # 출력문 중복을 줄이기 위해서 번호에 맞춰 함수에서 출력문이 튀어 나오게 하기 위해\n",
        "\n",
        "def result_print(number):\n",
        "  if number == 0 :    # 0 번은 사용자가 비겻을때 호출\n",
        "      return print(\"플레이어 [ \" , player, \" ] 랜덤상대 [ \" , alphago , \" ] \\n\\t\\t=> 비겼습니다\")\n",
        "  elif number == 1 :  # 1 번은 이겼을때 호출\n",
        "      return print(\"플레이어 [ \" , player, \" ] 랜덤상대 [ \" , alphago , \" ] \\n\\t\\t=> 이겼습니다.\")\n",
        "  elif number == 2 :  # 2 번은 졌을때 호출\n",
        "      return print(\"플레이어 [ \" , player, \" ] 랜덤상대 [ \" , alphago , \" ] \\n\\t\\t=> 졌습니다.\")\n",
        "\n",
        "while True:\n",
        "  alphago = random.choice(option)   # 임의의 유저에게 옵션 리스트 중 랜덤으로 값나오게 하기\n",
        "  player = input(\"가위, 바위, 보 중 하나를 선택해주세요 : \") # 사용자가 직접 값 입력하기\n",
        "  \n",
        "  if player not in alphago :\n",
        "    print(\"문자가 잘못 입력되었습니다.\")\n",
        "    continue\n",
        "\n",
        "  if player == alphago :\n",
        "    result_print(result[0])\n",
        "  elif player == \"바위\" and alphago == \"가위\" : \n",
        "    result_print(result[1])\n",
        "    win += 1\n",
        "  elif player == \"가위\" and alphago == \"바위\" : \n",
        "    result_print(result[1])\n",
        "    win += 1\n",
        "  elif player == \"보\" and alphago == \"주먹\" : \n",
        "    result_print(result[1])\n",
        "    win += 1\n",
        "  else : \n",
        "    result_print(result[2])\n",
        "\n",
        "  answer = input(\"계속하시겠습니까 ? (예/아니요)\")\n",
        "  if answer == \"예\" :\n",
        "    continue\n",
        "  elif answer == \"아니요\" :\n",
        "    break\n",
        "  \n",
        "  if \"예\" or \"아니요\" in answer :\n",
        "    print(\"예/아니요로만 대답해주세요\")\n",
        "\n",
        "print(\"이긴횟수 : \" , win)"
      ],
      "metadata": {
        "id": "zYPy2JPiwHew"
      },
      "execution_count": null,
      "outputs": []
    },
    {
      "cell_type": "code",
      "source": [
        "#Mission_10. 커피 자판기의 계산프로그램을 만들려고 합니다.(최대 15잔을 뽑을 수 있어요. 잔당 200원)\n",
        "#            돈을 값을 입력 받으면 커피를 뽑을 수 있는 잔수와 잔액을 알려주시면 됩니다. \n"
      ],
      "metadata": {
        "id": "9hH7DZ-vwHkq"
      },
      "execution_count": null,
      "outputs": []
    }
  ]
}
